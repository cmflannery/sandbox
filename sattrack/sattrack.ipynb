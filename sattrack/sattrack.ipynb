{
 "cells": [
  {
   "cell_type": "code",
   "execution_count": 40,
   "metadata": {},
   "outputs": [
    {
     "name": "stdout",
     "output_type": "stream",
     "text": [
      "The autoreload extension is already loaded. To reload it, use:\n",
      "  %reload_ext autoreload\n"
     ]
    }
   ],
   "source": [
    "from __future__ import division\n",
    "import numpy as np\n",
    "import matplotlib.pyplot as plt\n",
    "import requests\n",
    "import getpass\n",
    "\n",
    "%load_ext autoreload\n",
    "%autoreload 2\n",
    "%matplotlib inline"
   ]
  },
  {
   "cell_type": "markdown",
   "metadata": {},
   "source": [
    "# Overview\n",
    "\n",
    "* Take in satellite id or name, pull orbit data from space-track.org\n",
    "* predict next visible path\n",
    "* tune SDR to TT&C frequency (C-band generally)\n",
    "* tune SDR to paylaod frequency?"
   ]
  },
  {
   "cell_type": "code",
   "execution_count": 41,
   "metadata": {},
   "outputs": [
    {
     "name": "stdout",
     "output_type": "stream",
     "text": [
      "Password: ········\n"
     ]
    }
   ],
   "source": [
    "password = getpass.getpass(prompt='Password: ', stream=None) "
   ]
  },
  {
   "cell_type": "code",
   "execution_count": 44,
   "metadata": {},
   "outputs": [],
   "source": [
    "def query_jspoc(username, password, query):\n",
    "    payload = {'identity': username, 'password': password, 'query':query}\n",
    "    r = requests.post(\"https://www.space-track.org/ajaxauth/login\", data=payload)\n",
    "    return r"
   ]
  },
  {
   "cell_type": "code",
   "execution_count": 45,
   "metadata": {},
   "outputs": [],
   "source": [
    "def propagate(state, t):\n",
    "    updated_state = state\n",
    "    return updated_state\n",
    "\n",
    "\n",
    "def predict_pass(state):\n",
    "    return pass_time\n",
    "\n",
    "\n",
    "class TrackingStation():\n",
    "    \"\"\"Tracking Station base class.\n",
    "    \n",
    "    Describes the general functionality for a tracking station\n",
    "    with a GPS and star tracker aligned with the antenna's axis.\"\"\"\n",
    "    def __init__(self):\n",
    "        self.gps = GPS()\n",
    "        self.startracker = Startracker()\n",
    "    \n",
    "    def calibrate(self):\n",
    "        \"\"\"Calibrate the tracking station using the star tracker\n",
    "        and GPS.\"\"\"\n",
    "        pass\n",
    "    \n",
    "    def get_attitude(self):\n",
    "        return self.startracker.get_quaternion()\n",
    "    \n",
    "    def get_position(self):\n",
    "        return self.gps.get_position() \n",
    "    \n",
    "    \n",
    "class Startracker():\n",
    "    def __init__(self):\n",
    "        pass\n",
    "    \n",
    "    def take_image(self):\n",
    "        pass\n",
    "    \n",
    "    def find_stars(self):\n",
    "        pass\n",
    "    \n",
    "    def get_quaternian(self):\n",
    "        pass\n",
    "\n",
    "\n",
    "class GPS():\n",
    "    def __init__(self):\n",
    "        pass\n",
    "    \n",
    "    def update(self):\n",
    "        pass\n",
    "        \n",
    "    def get_position(self):\n",
    "        pass\n",
    "        "
   ]
  }
 ],
 "metadata": {
  "kernelspec": {
   "display_name": "Python 3",
   "language": "python",
   "name": "python3"
  },
  "language_info": {
   "codemirror_mode": {
    "name": "ipython",
    "version": 2
   },
   "file_extension": ".py",
   "mimetype": "text/x-python",
   "name": "python",
   "nbconvert_exporter": "python",
   "pygments_lexer": "ipython2",
   "version": "2.7.15"
  }
 },
 "nbformat": 4,
 "nbformat_minor": 2
}
