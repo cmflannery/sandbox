{
 "cells": [
  {
   "cell_type": "code",
   "execution_count": 5,
   "metadata": {},
   "outputs": [],
   "source": [
    "%matplotlib inline\n",
    "from __future__ import division, print_function\n",
    "import numpy as np\n",
    "import matplotlib.pyplot as plt"
   ]
  },
  {
   "cell_type": "code",
   "execution_count": 2,
   "metadata": {},
   "outputs": [
    {
     "name": "stdout",
     "output_type": "stream",
     "text": [
      "(7060.818181818182, 6921)\n"
     ]
    }
   ],
   "source": [
    "ecc = 0.01\n",
    "alt_p = 550  # [km] altitude at perigee\n",
    "Re = 6371  # [km] Radius of the Earth\n",
    "\n",
    "rp = Re + alt_p\n",
    "ra = (ecc + 1)*rp/(1 - ecc)\n",
    "\n",
    "print(ra, rp)"
   ]
  },
  {
   "cell_type": "code",
   "execution_count": 6,
   "metadata": {},
   "outputs": [
    {
     "name": "stdout",
     "output_type": "stream",
     "text": [
      "inf\n"
     ]
    },
    {
     "name": "stderr",
     "output_type": "stream",
     "text": [
      "/home/cameron/.local/lib/python2.7/site-packages/ipykernel_launcher.py:3: DeprecationWarning: object of type <type 'float'> cannot be safely interpreted as an integer.\n",
      "  This is separate from the ipykernel package so we can avoid doing imports until\n",
      "/home/cameron/.local/lib/python2.7/site-packages/ipykernel_launcher.py:11: RuntimeWarning: divide by zero encountered in double_scalars\n",
      "  # This is added back by InteractiveShellApp.init_path()\n"
     ]
    }
   ],
   "source": [
    "tf = 8*3600  # 8 hours\n",
    "dt = 10  # 10 seconds update frequency\n",
    "time = np.linspace(0,tf,tf/dt+1)\n",
    "nsteps = len(time)\n",
    "\n",
    "ns = 9  # position, velocity, and acceleration\n",
    "state = np.zeros((ns,1,nsteps))\n",
    "mu = 3.986012e5  # km^3 s^-2\n",
    "\n",
    "# state is ntw frame\n",
    "state[]\n",
    "\n",
    "for idx in range(0,nsteps):\n",
    "    A = mu/np.linalg.norm(state[0:3,0,idx])\n",
    "    print(A)\n",
    "    break"
   ]
  },
  {
   "cell_type": "code",
   "execution_count": null,
   "metadata": {},
   "outputs": [],
   "source": []
  }
 ],
 "metadata": {
  "kernelspec": {
   "display_name": "Python 3",
   "language": "python",
   "name": "python3"
  },
  "language_info": {
   "codemirror_mode": {
    "name": "ipython",
    "version": 2
   },
   "file_extension": ".py",
   "mimetype": "text/x-python",
   "name": "python",
   "nbconvert_exporter": "python",
   "pygments_lexer": "ipython2",
   "version": "2.7.15rc1"
  }
 },
 "nbformat": 4,
 "nbformat_minor": 2
}
