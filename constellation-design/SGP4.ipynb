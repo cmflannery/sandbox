{
 "cells": [
  {
   "cell_type": "code",
   "execution_count": 3,
   "metadata": {},
   "outputs": [],
   "source": [
    "%matplotlib inline\n",
    "import os\n",
    "import numpy as np\n",
    "import matplotlib.pyplot as plt"
   ]
  },
  {
   "cell_type": "code",
   "execution_count": 77,
   "metadata": {},
   "outputs": [],
   "source": [
    "file_name = 'tintina3le.txt'\n",
    "\n",
    "with open(file_name, 'r') as data:\n",
    "    entry = data.read()\n",
    "\n",
    "entry_s = entry.splitlines()\n",
    "nsats = len(entry_s)//3\n",
    "    \n",
    "sat_num = entry_s[1][2:7]  # satellite catalog number\n",
    "\n",
    "epoch0 = float(entry_s[1][18:32])  # element set epoch (UTC)\n",
    "n0d = float(entry_s[1][33:43])  # 1st derivative of mean motion w.r.t time\n",
    "n0dd = float(entry_s[1][44:50])**float(entry_s[1][51:52])  # 2nd derivative of mean motion w.r.t. time\n",
    "Bstar = float(entry_s[1][53:59])**float(entry_s[1][60:61])  # B* drag term\n",
    "i0 = float(entry_s[2][8:16])  # orbit inclination (degrees)\n",
    "i0rad = np.deg2rad(i0)\n",
    "\n",
    "phi0 = float(entry_s[2][17:25])  # right ascension of ascending node (degrees)\n",
    "e0 = float(entry_s[2][26:33])  # eccentricity (decimal point assumed)\n",
    "e0 = e0/10**(np.floor(np.log10(e0))+1)\n",
    "\n",
    "w0 = float(entry_s[2][34:42])  # argument of perigee (degrees)\n",
    "w0rad = np.deg2rad(w0)\n",
    "\n",
    "M0 = float(entry_s[2][43:51])  # mean anomaly (degrees)\n",
    "n0 = float(entry_s[2][53:63])  # mean motion (revolutions/day)\n",
    "rev0 = float(entry_s[2][63:68])  # revolution number at epoch"
   ]
  },
  {
   "cell_type": "markdown",
   "metadata": {},
   "source": [
    "## Nomenclature\n",
    "\n",
    "$n_0 =$ the SGP type \"mean\" mean motion at epoch <br>\n",
    "$e_0 =$ the \"mean\" eccentricity at epoch <br>\n",
    "$i_0 =$ the \"mean\" inclination at epoch <br>\n",
    "$k_e = \\sqrt{GM}$ where G is Newton's universal gravitational constant and $M$ is the mass of the Earth <br>"
   ]
  },
  {
   "cell_type": "code",
   "execution_count": 75,
   "metadata": {},
   "outputs": [],
   "source": [
    "# constants\n",
    "CK2 = 5.413080e-4\n",
    "CK4 = 0.62098875e-6\n",
    "E6A = 1.0e-6\n",
    "QOMS2T = 1.88027916e-9\n",
    "S = 1.01222928\n",
    "TOTHRD = .66666667\n",
    "XJ3 = -0.253881e-5\n",
    "XKE = -0.743669161e-1\n",
    "XKMPER = 6378.135\n",
    "XMNPDA = 1440\n",
    "AE = 1.0\n",
    "CG = 6.67408e-11  # m3 kg-1 s-2\n",
    "CM = 5.972e24  # kg\n",
    "CRE = 6371e3  # m"
   ]
  },
  {
   "cell_type": "code",
   "execution_count": 82,
   "metadata": {},
   "outputs": [],
   "source": [
    "# SGP4 Constants\n",
    "ke = np.sqrt(G*M)\n",
    "\n",
    "a1 = (ke/n0)**(2./3)\n",
    "delta1 = 3./2*CK2/a1**2*(3*np.cos(i0rad)**2-1)/(1-e0**2)**(3/2)\n",
    "a0 = a1*(1 - 1./3*delta1 - delta1**2 - 134./81*delta1**3)\n",
    "delta0 = 3./2*CK2/a0**2*(3*np.cos(i0rad)**2-1)/(1-e0**2)**(3./2)\n",
    "n0dd = n0/(1+delta0)\n",
    "a0dd = a0/(1-delta0)\n",
    "\n",
    "theta = np.cos(i0rad)\n",
    "xi = 1./(a0dd - S)\n",
    "Beta0 = (1 - e0**2)**(1./2)\n",
    "\n",
    "eta = a0dd*e0*xi\n",
    "\n",
    "C2 = QOMS2T*xi**4*n0dd*(1-eta**2)**(-7./2)* \\\n",
    "     (a0dd*(1 + 3./2*eta**2 + 4*e0*eta + e0 * eta**3) + \\\n",
    "     3./2*CK2*xi/(1-eta**2)*(-1./2 + 3./2*theta**2)*(8 + 24*eta**2 + 3*eta**4))\n",
    "C1 = Bstar*C2\n",
    "\n",
    "A3OVK2 = -XJ3/CK2*AE**3\n",
    "\n",
    "C3 = QOMS2T*xi**5*A3OVK2*n0dd*AE*np.sin(i0rad)/e0\n",
    "C4 = 2*n0dd*QOMS2T*xi**4*a0dd*Beta0**2*(1-eta**2)**(-7./2)*\\\n",
    "     ((2*eta*(1+e0*eta)+1./2*e0+1./2*eta**3)-\\\n",
    "     2*CK2*xi/(a0dd*(1-eta**2))*\\\n",
    "     (3*(1-3*theta**2)*(1+3./2*eta**2-2*e0*eta-1./2*e0*eta**3)+\\\n",
    "     3./4*(1-theta**2)*(2*eta**2-e0*eta-e0*eta**3)*np.cos(2*w0rad)))\n",
    "C5 = 2*QOMS2T*xi**4*a0dd*Beta0**2*(1-eta**2)**(-7./2)*(1+11./4*eta*(eta+e0)+e0*eta**3)\n",
    "\n",
    "D2 = 4*a0dd*xi*C1**2\n",
    "D3 = 4./3*a0dd*xi**2*(17*a0dd + S)*C1**3\n",
    "D4 = 2./3*a0dd*xi**3*(221*a0dd + 31*S)*C1**4"
   ]
  },
  {
   "cell_type": "code",
   "execution_count": 84,
   "metadata": {},
   "outputs": [],
   "source": [
    "# define time in future\n",
    "t0 = 0  # s\n",
    "t = 1000  # "
   ]
  },
  {
   "cell_type": "code",
   "execution_count": 89,
   "metadata": {},
   "outputs": [
    {
     "name": "stderr",
     "output_type": "stream",
     "text": [
      "/usr/local/lib/python2.7/site-packages/ipykernel_launcher.py:26: RuntimeWarning: invalid value encountered in sqrt\n"
     ]
    }
   ],
   "source": [
    "# The secular effects of atmospheric drag and gravitation are included\n",
    "# through the equations\n",
    "\n",
    "MDF = M0 + (1 + 3*CK2*(-1 + 3*theta**2)/(2*a0dd**2*Beta0**3) + \\\n",
    "           3*CK2**2*(13 - 78*theta**2 + 137*theta**4)/(16*a0dd**4*Beta0**7))*n0dd*(t-t0)\n",
    "\n",
    "\n",
    "wDF = w0 + (-3*CK2*(1 - 5*theta**2)/(2*a0dd**2*Beta0**4) + \\\n",
    "           3*CK2**2*(7 - 114*theta**2 + 395*theta**4)/(16*a0dd**4*Beta0**8) + \\\n",
    "           5*CK4*(3 - 36*theta**2 + 49*theta**4)/(4*a0dd**4*Beta0**8))*n0dd*(t-t0)\n",
    "\n",
    "\n",
    "phiDF = phi0 + (-3*CK2*theta/(a0dd**2*Beta0**4) + \\\n",
    "                3*CK2**2*(4*theta - 19*theta**3)/(2*a0dd**4*Beta0**8) + \\\n",
    "                5*CK4*theta*(3 - 7*theta**2)/(2*a0dd**4*Beta0**8))*n0dd*(t-t0)\n",
    "\n",
    "\n",
    "\n",
    "deltaw = Bstar*C3*(np.cos(w0rad))*(t-t0)\n",
    "deltaM = -2./3*QOMS2T*Bstar*xi**4*AE/(e0*eta)*((1+eta*np.cos(MDF))**3 - \\\n",
    "                                              (1 + eta*np.cos(M0))**3)\n",
    "MP = MDF + deltaw + deltaM\n",
    "w = wDF - deltaw - deltaM\n",
    "phi = phiDF - 21./2*(n0dd*CK2*theta)/(a0dd**2*Beta0**2)*C1*(t-t0)**2\n",
    "e = e0 - Bstar*C4*(t-t0) - Bstar*C5*(np.sin(MP)-np.sin(M0))\n",
    "\n",
    "dt = t-t0\n",
    "a = a0dd*(1 - C1*dt - D2*dt**2 - D3*dt**3 - D3*dt**4)**2\n",
    "\n",
    "IL = MP + w + phi + n0dd*(3./2*C1*dt**2 + (D2 + 2*C1**2)*dt**3 + \\\n",
    "                          1./4*(3*D3 + 12*C1*D2 + 10*C1**3)*dt**4 + \\\n",
    "                          1./5*(3*D4 + 12*C1*D3 + 6*D2**2 + \\\n",
    "                                30*C1**2*D2 + 15*C1**4)*dt**5)\n",
    "\n",
    "Beta = np.sqrt(1 - e**2)\n",
    "n = ke/a**(3./2)\n",
    "\n"
   ]
  },
  {
   "cell_type": "code",
   "execution_count": 96,
   "metadata": {},
   "outputs": [
    {
     "data": {
      "text/plain": [
       "-2.365463027777004"
      ]
     },
     "execution_count": 96,
     "metadata": {},
     "output_type": "execute_result"
    }
   ],
   "source": [
    "- Bstar*C4*(t-t0) - Bstar*C5*(np.sin(MP)-np.sin(M0))"
   ]
  },
  {
   "cell_type": "code",
   "execution_count": 99,
   "metadata": {},
   "outputs": [
    {
     "data": {
      "text/plain": [
       "0.16218251906872927"
      ]
     },
     "execution_count": 99,
     "metadata": {},
     "output_type": "execute_result"
    }
   ],
   "source": [
    "np.sin(MP)-np.sin(M0)"
   ]
  },
  {
   "cell_type": "code",
   "execution_count": 100,
   "metadata": {},
   "outputs": [
    {
     "data": {
      "text/plain": [
       "239.90269927550284"
      ]
     },
     "execution_count": 100,
     "metadata": {},
     "output_type": "execute_result"
    }
   ],
   "source": [
    "w"
   ]
  },
  {
   "cell_type": "code",
   "execution_count": 101,
   "metadata": {},
   "outputs": [
    {
     "data": {
      "text/plain": [
       "239.9027"
      ]
     },
     "execution_count": 101,
     "metadata": {},
     "output_type": "execute_result"
    }
   ],
   "source": [
    "w0"
   ]
  },
  {
   "cell_type": "code",
   "execution_count": 102,
   "metadata": {},
   "outputs": [
    {
     "data": {
      "text/plain": [
       "4.187091999424201"
      ]
     },
     "execution_count": 102,
     "metadata": {},
     "output_type": "execute_result"
    }
   ],
   "source": [
    "w0rad"
   ]
  },
  {
   "cell_type": "code",
   "execution_count": 103,
   "metadata": {},
   "outputs": [
    {
     "data": {
      "text/plain": [
       "239.90269999340103"
      ]
     },
     "execution_count": 103,
     "metadata": {},
     "output_type": "execute_result"
    }
   ],
   "source": [
    "wDF"
   ]
  },
  {
   "cell_type": "code",
   "execution_count": null,
   "metadata": {},
   "outputs": [],
   "source": []
  }
 ],
 "metadata": {
  "kernelspec": {
   "display_name": "Python 3",
   "language": "python",
   "name": "python3"
  },
  "language_info": {
   "codemirror_mode": {
    "name": "ipython",
    "version": 2
   },
   "file_extension": ".py",
   "mimetype": "text/x-python",
   "name": "python",
   "nbconvert_exporter": "python",
   "pygments_lexer": "ipython2",
   "version": "2.7.15"
  }
 },
 "nbformat": 4,
 "nbformat_minor": 2
}
