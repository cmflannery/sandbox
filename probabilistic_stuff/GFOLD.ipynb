{
 "cells": [
  {
   "cell_type": "markdown",
   "metadata": {},
   "source": [
    "# Recreating the GFOLD paper\n",
    "\n",
    "Reference: https://arc.aiaa.org/action/doSearch?AllField=Convex+Programming+Approach+to+Powered+Descent+Guidance+for+Mars+Landing"
   ]
  },
  {
   "cell_type": "code",
   "execution_count": 82,
   "metadata": {},
   "outputs": [],
   "source": [
    "%matplotlib inline\n",
    "import numpy as np\n",
    "from scipy.linalg import expm\n",
    "import matplotlib.pyplot as plt\n",
    "import cvxpy as cvx"
   ]
  },
  {
   "cell_type": "markdown",
   "metadata": {},
   "source": [
    "## Powered Descent Guidance Example"
   ]
  },
  {
   "cell_type": "code",
   "execution_count": 31,
   "metadata": {},
   "outputs": [],
   "source": [
    "ge = 9.807\n",
    "g = np.array([[-3.711400]])  # m/s^2\n",
    "mdry = 1505  # kg\n",
    "mwet = 1905  # kg\n",
    "mfuel = mwet-mdry\n",
    "Isp = 225  # s\n",
    "Tbar = 3100  # N (maximum thrust for each thruster)\n",
    "T1 = 0.3*Tbar\n",
    "T2 = 0.8*Tbar\n",
    "n = 6\n",
    "phi = 27  # deg\n",
    "alpha = 1/(Isp*ge*np.cos(np.deg2rad(phi)))"
   ]
  },
  {
   "cell_type": "markdown",
   "metadata": {},
   "source": [
    "An additional constraint on the thrust direction at time $t_f$ is imposed to be the opposite direction to the gravity vector."
   ]
  },
  {
   "cell_type": "code",
   "execution_count": 4,
   "metadata": {},
   "outputs": [],
   "source": [
    "nhatf = np.array([[1, 0, 0]]).T"
   ]
  },
  {
   "cell_type": "code",
   "execution_count": 116,
   "metadata": {},
   "outputs": [],
   "source": [
    "r0 = np.array([1.5, 0, 2])\n",
    "rdot0 = np.array([ -75, 0, 100])\n",
    "\n",
    "y0 = np.append(np.append(r0, rdot0), np.array([np.log(mwet)]))\n",
    "\n",
    "tmin = (mwet-mfuel)*np.linalg.norm(rdot0)/T2\n",
    "tmax = (mwet-mfuel)*np.linalg.norm(rdot0)/T1\n",
    "\n",
    "dt = 1  # s\n",
    "tf = 72  # s\n",
    "N = int(tf/dt)\n",
    "time = np.zeros((0,tf,N))\n",
    "\n",
    "# initial conditions\n",
    "ns = 6\n",
    "state = np.zeros((ns,1,N))  # state is R3 position and velocity\n",
    "state[:,0,0] = np.append(r0,rdot0)"
   ]
  },
  {
   "cell_type": "code",
   "execution_count": 143,
   "metadata": {},
   "outputs": [],
   "source": [
    "Ac = np.array([[0, 0, 0, 1, 0, 0, 0],\n",
    "               [0, 0, 0, 0, 1, 0, 0],\n",
    "               [0, 0, 0, 0, 0, 1, 0],\n",
    "               [0, 0, 0, 0, 0, 0, 0],\n",
    "               [0, 0, 0, 0, 0, 0, 0],\n",
    "               [0, 0, 0, 0, 0, 0, 0],\n",
    "               [0, 0, 0, 0, 0, 0, 0]])\n",
    "\n",
    "Bc = np.array([[0, 0, 0, 0],\n",
    "               [0, 0, 0, 0],\n",
    "               [0, 0, 0, 0],\n",
    "               [1, 0, 0, 0],\n",
    "               [0, 1, 0, 0],\n",
    "               [0, 0, 1, 0],\n",
    "               [0, 0, 0, 0]])\n",
    "\n",
    "A = expm(Ac*dt)\n",
    "B = np.matmul(np.eye(len(Ac)) - A,Bc)"
   ]
  },
  {
   "cell_type": "code",
   "execution_count": 145,
   "metadata": {},
   "outputs": [],
   "source": [
    "Phi = np.zeros((len(A),len(A),N))\n",
    "dim1, dim2 = B.shape\n",
    "Lambda = np.zeros((dim1,dim2,N))\n",
    "for k in range(0,N):\n",
    "    Phi[:,:,k] = np.linalg.matrix_power(A,k)\n",
    "    for j in range(0,k):\n",
    "        Lambda[:,:,k] += np.matmul(np.linalg.matrix_power(A,j),B)"
   ]
  },
  {
   "cell_type": "code",
   "execution_count": 148,
   "metadata": {},
   "outputs": [],
   "source": [
    "E = np.append(np.eye(6), np.zeros((6,1)),axis=1)\n",
    "F = np.append(np.zeros((1,6)),np.eye(1))\n",
    "\n",
    "esigma = np.array([[0,0,0,1]]).T\n",
    "w = np.ones((1,N))*dt\n",
    "omega = w\n",
    "Eu = np.append(np.eye(3), np.zeros((3,1)),axis=1)"
   ]
  },
  {
   "cell_type": "code",
   "execution_count": 149,
   "metadata": {},
   "outputs": [
    {
     "data": {
      "text/plain": [
       "array([[1., 1., 1., 1., 1., 1., 1., 1., 1., 1., 1., 1., 1., 1., 1., 1.,\n",
       "        1., 1., 1., 1., 1., 1., 1., 1., 1., 1., 1., 1., 1., 1., 1., 1.,\n",
       "        1., 1., 1., 1., 1., 1., 1., 1., 1., 1., 1., 1., 1., 1., 1., 1.,\n",
       "        1., 1., 1., 1., 1., 1., 1., 1., 1., 1., 1., 1., 1., 1., 1., 1.,\n",
       "        1., 1., 1., 1., 1., 1., 1., 1.]])"
      ]
     },
     "execution_count": 149,
     "metadata": {},
     "output_type": "execute_result"
    }
   ],
   "source": [
    "w"
   ]
  },
  {
   "cell_type": "code",
   "execution_count": 131,
   "metadata": {},
   "outputs": [
    {
     "data": {
      "text/plain": [
       "array([[0.],\n",
       "       [0.],\n",
       "       [0.]])"
      ]
     },
     "execution_count": 131,
     "metadata": {},
     "output_type": "execute_result"
    }
   ],
   "source": [
    "np.zeros((3,1))"
   ]
  },
  {
   "cell_type": "code",
   "execution_count": null,
   "metadata": {},
   "outputs": [],
   "source": []
  }
 ],
 "metadata": {
  "kernelspec": {
   "display_name": "Python 3",
   "language": "python",
   "name": "python3"
  },
  "language_info": {
   "codemirror_mode": {
    "name": "ipython",
    "version": 2
   },
   "file_extension": ".py",
   "mimetype": "text/x-python",
   "name": "python",
   "nbconvert_exporter": "python",
   "pygments_lexer": "ipython2",
   "version": "2.7.15rc1"
  }
 },
 "nbformat": 4,
 "nbformat_minor": 2
}
